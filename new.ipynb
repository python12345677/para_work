{
 "cells": [
  {
   "cell_type": "code",
   "execution_count": 3,
   "metadata": {},
   "outputs": [],
   "source": [
    "import numpy as np\n",
    "from qutip import *\n",
    "import matplotlib.pyplot as plt\n",
    "from scipy.linalg import eigh\n",
    "from tools import *"
   ]
  },
  {
   "cell_type": "code",
   "execution_count": 4,
   "metadata": {},
   "outputs": [],
   "source": [
    "def py_coeff1(t, args):\n",
    "    wr = args['wr']\n",
    "    return np.exp(1j *wr*t)\n",
    "def py_coeff2(t, args):\n",
    "    wr = args['wr']\n",
    "    return np.exp(-1j *wr*t)"
   ]
  },
  {
   "attachments": {},
   "cell_type": "markdown",
   "metadata": {},
   "source": [
    "# 单元测试 腔耗散"
   ]
  },
  {
   "cell_type": "code",
   "execution_count": 5,
   "metadata": {},
   "outputs": [],
   "source": [
    "def get_cavity_test(wp,g=None,eps=None):\n",
    "    # cavity\n",
    "    Nc = 10\n",
    "    Hc = 5.196\n",
    "    kappa = 0.012\n",
    "    # atom\n",
    "    Na = 2\n",
    "    eps = 0\n",
    "    # couple\n",
    "    g = 0.3\n",
    "    # operator\n",
    "    a = tensor(qeye(Na), destroy(Nc))\n",
    "    ad = a.dag()\n",
    "    sz = tensor(sigmaz(), qeye(Nc))\n",
    "    sx = tensor(sigmax(), qeye(Nc))\n",
    "    sm = tensor(create(Na), qeye(Nc))\n",
    "    # collapse operator\n",
    "    c_ops= []\n",
    "    # c_ops.append(np.sqrt(0.1) * sm)\n",
    "    c_ops.append(np.sqrt((1+0.09)*kappa) * a)\n",
    "    c_ops.append(np.sqrt((0.09)*kappa) * ad)\n",
    "    # Hamiltonian\n",
    "    Hc = Hc*ad*a\n",
    "    Ha = eps*sz + 1*sx\n",
    "    Hi = 0*g*(sm*ad+sm.dag()*a)\n",
    "    # tranformation for qubit\n",
    "    w,v = eigh(Ha)\n",
    "    H0 = Hc + Ha + Hi\n",
    "    # probe\n",
    "    Hp1 =  [np.sqrt(0.0001)*(ad), py_coeff2]\n",
    "    Hp2 =  [np.sqrt(0.0001)*(a), py_coeff1]\n",
    "    H = [H0,Hp1,Hp2]\n",
    "    # solve\n",
    "    psi0 = tensor(basis(Na,0),fock(Nc,3))\n",
    "    time = np.linspace(0,1000,1000)\n",
    "    res = mesolve(H,psi0,time,c_ops,[a,ad*a],args={'wr': wp})\n",
    "    aexpt = abs(res.expect[0][-1])\n",
    "\n",
    "    # plt.plot(time,abs(res.expect[0]))\n",
    "    # plt.plot(time,abs(res.expect[1]))\n",
    "    return aexpt**2"
   ]
  },
  {
   "cell_type": "code",
   "execution_count": 8,
   "metadata": {},
   "outputs": [
    {
     "ename": "",
     "evalue": "",
     "output_type": "error",
     "traceback": [
      "\u001b[1;31m在当前单元格或上一个单元格中执行代码时 Kernel 崩溃。请查看单元格中的代码，以确定故障的可能原因。有关详细信息，请单击 <a href='https://aka.ms/vscodeJupyterKernelCrash'>此处</a>。有关更多详细信息，请查看 Jupyter <a href='command:jupyter.viewOutput'>log</a>。"
     ]
    }
   ],
   "source": [
    "probe_lis = np.linspace(5.1,5.3,10)\n",
    "res_lis = []\n",
    "for probe in probe_lis:\n",
    "    a = parfor(get_cavity_test, probe_lis, g=0,eps=0)\n",
    "res_lis = np.abs(a)\n",
    "plt.plot(probe_lis,res_lis,c='r');"
   ]
  },
  {
   "attachments": {},
   "cell_type": "markdown",
   "metadata": {},
   "source": [
    "# 单元测试 原子耗散"
   ]
  },
  {
   "cell_type": "code",
   "execution_count": 5,
   "metadata": {},
   "outputs": [
    {
     "name": "stdout",
     "output_type": "stream",
     "text": [
      "Quantum object: dims = [[2], [2]], shape = (2, 2), type = oper, isherm = True\n",
      "Qobj data =\n",
      "[[-7.07106781e-01 -5.55111512e-17]\n",
      " [-5.55111512e-17  7.07106781e-01]]\n",
      "0.8044296825069537\n",
      "0.8044296825069569\n"
     ]
    },
    {
     "data": {
      "image/png": "[encoded data removed]",
      "text/plain": [
       "<Figure size 432x288 with 1 Axes>"
      ]
     },
     "metadata": {
      "needs_background": "light"
     },
     "output_type": "display_data"
    }
   ],
   "source": [
    "# def get_atom_test(wp,g=None,eps=None):\n",
    "# cavity\n",
    "Nc = 10\n",
    "Hc = 2\n",
    "wp = 2\n",
    "# atom\n",
    "Na = 2\n",
    "eps = 0.5\n",
    "t2 = 0.5\n",
    "# couple\n",
    "g = 0.3\n",
    "# operator\n",
    "a = tensor(qeye(Na), destroy(Nc))\n",
    "ad = a.dag()\n",
    "sz = tensor(sigmaz(), qeye(Nc))\n",
    "sx = tensor(sigmax(), qeye(Nc))\n",
    "sm = tensor(create(Na), qeye(Nc))\n",
    "# collapse operator\n",
    "c_ops= []\n",
    "# c_ops.append(np.sqrt(0.1) * sm)\n",
    "c_ops.append(np.sqrt((1+0.25)*0.1) * a)\n",
    "c_ops.append(np.sqrt((0.25))*0.1 * ad)\n",
    "# Hamiltonian\n",
    "Hc = Hc*ad*a\n",
    "Ha = eps*sz + 1*sx\n",
    "Hi = 0*g*(sm*ad+sm.dag()*a)\n",
    "# tranformation for qubit\n",
    "Ha0 = eps*sigmaz() + t2*sigmax()\n",
    "w,v = eigh(Ha0)\n",
    "Ha1 = np.transpose(np.conj(v))@np.array(Ha0)@v\n",
    "Ha1 = Qobj(Ha1)\n",
    "print(Ha1)\n",
    "c_ops2 = []\n",
    "add_heat(Ha1,Na,c_ops2)\n",
    "for each in c_ops2:\n",
    "    c_ops.append(tensor(each, qeye(Nc)))\n",
    "Ha1 = tensor(Ha1,qeye(Nc))\n",
    "# all Hamiltonian\n",
    "H0 = Hc + Ha1 + Hi\n",
    "# probe\n",
    "Hp1 =  [np.sqrt(0.001)*(ad), py_coeff2]\n",
    "Hp2 =  [np.sqrt(0.001)*(a), py_coeff1]\n",
    "H = [H0,Hp1,Hp2]\n",
    "# solve\n",
    "psi0 = tensor(basis(Na,1),fock(Nc,3))\n",
    "time = np.linspace(0,100,1000)\n",
    "res = mesolve(H,psi0,time,c_ops,[a,ad*a,tensor(qdiags([1,0],0),qeye(Nc))],args={'wr': wp})\n",
    "aexpt = abs(res.expect[0][-1])\n",
    "\n",
    "plt.plot(time,abs(res.expect[0]))\n",
    "plt.plot(time,abs(res.expect[1]))\n",
    "plt.plot(time,(res.expect[2]))\n",
    "print(res.expect[2][-1])\n",
    "total = 1+np.exp(-np.sqrt(2))\n",
    "zhanju1 = np.exp(0)/total\n",
    "print(zhanju1)\n",
    "    # return aexpt**2"
   ]
  },
  {
   "attachments": {},
   "cell_type": "markdown",
   "metadata": {},
   "source": [
    "# 单元测试 腔加qubit"
   ]
  },
  {
   "cell_type": "code",
   "execution_count": 12,
   "metadata": {},
   "outputs": [
    {
     "name": "stdout",
     "output_type": "stream",
     "text": [
      "0.8044296825069569\n",
      "0.3583162289684746\n"
     ]
    },
    {
     "data": {
      "image/png": "[encoded data removed]",
      "text/plain": [
       "<Figure size 432x288 with 1 Axes>"
      ]
     },
     "metadata": {
      "needs_background": "light"
     },
     "output_type": "display_data"
    }
   ],
   "source": [
    "\n",
    "# cavity\n",
    "Nc = 10\n",
    "Hc = 2\n",
    "wp = 2\n",
    "# atom\n",
    "Na = 2\n",
    "eps = 0\n",
    "t2 = 1\n",
    "# couple\n",
    "g = 0.5\n",
    "# operator\n",
    "a = tensor(qeye(Na), destroy(Nc))\n",
    "ad = a.dag()\n",
    "sz = tensor(sigmaz(), qeye(Nc))\n",
    "sx = tensor(sigmax(), qeye(Nc))\n",
    "sm = tensor(create(Na), qeye(Nc))\n",
    "# collapse operator\n",
    "c_ops= []\n",
    "# c_ops.append(np.sqrt(0.1) * sm)\n",
    "c_ops.append(np.sqrt((1+0.25)*0.1) * a)\n",
    "c_ops.append(np.sqrt((0.25))*0.1 * ad)\n",
    "# Hamiltonian\n",
    "Hc = Hc*ad*a\n",
    "Ha = eps*sz + t2*sx\n",
    "Hi = 1*g*(sm*ad+sm.dag()*a)\n",
    "# tranformation for qubit\n",
    "Ha0 = eps*sigmaz() + t2*sigmax()\n",
    "w,v = eigh(Ha0)\n",
    "Ha1 = np.transpose(np.conj(v))@np.array(Ha0)@v\n",
    "Ha1 = Qobj(Ha1)\n",
    "sigmam1 = np.transpose(np.conj(v))@np.array(sigmap())@v\n",
    "sigmam1 = Qobj(sigmam1)\n",
    "sm1 = tensor(sigmam1,qeye(Nc))\n",
    "Hi1 = 1*g*(sm1*ad+sm1.dag()*a)\n",
    "c_ops2 = []\n",
    "add_heat(Ha1,Na,c_ops2)\n",
    "for each in c_ops2:\n",
    "    c_ops.append(tensor(each, qeye(Nc)))\n",
    "Ha1 = tensor(Ha1,qeye(Nc))\n",
    "# all Hamiltonian\n",
    "H0 = Hc + Ha1 + Hi1\n",
    "# probe\n",
    "Hp1 =  [np.sqrt(0.001)*(ad), py_coeff2]\n",
    "Hp2 =  [np.sqrt(0.001)*(a), py_coeff1]\n",
    "H = [H0,Hp1,Hp2]\n",
    "# solve\n",
    "psi0 = tensor(basis(Na,1),fock(Nc,3))\n",
    "time = np.linspace(0,100,1000)\n",
    "res = mesolve(H,psi0,time,c_ops,[a,ad*a,tensor(qdiags([1,0],0),qeye(Nc))],args={'wr': wp})\n",
    "aexpt = abs(res.expect[0][-1])\n",
    "plt.plot(time,abs(res.expect[0]))\n",
    "# plt.plot(time,abs(res.expect[1]))\n",
    "plt.plot(time,(res.expect[2]))\n",
    "# print(res.expect[2][-100:-1])\n",
    "total = 1+np.exp(-np.sqrt(2))\n",
    "zhanju1 = np.exp(0)/total\n",
    "print(zhanju1)\n",
    "print(aexpt)\n"
   ]
  },
  {
   "cell_type": "code",
   "execution_count": 7,
   "metadata": {},
   "outputs": [
    {
     "name": "stdout",
     "output_type": "stream",
     "text": [
      "Quantum object: dims = [[2], [2]], shape = (2, 2), type = oper, isherm = False\n",
      "Qobj data =\n",
      "[[0. 0.]\n",
      " [1. 0.]]\n"
     ]
    }
   ],
   "source": [
    "print(sigmam())"
   ]
  },
  {
   "cell_type": "code",
   "execution_count": 23,
   "metadata": {},
   "outputs": [],
   "source": [
    "def get_couple_test(wp,g=None,eps=None):\n",
    "    # cavity\n",
    "    Nc = 10\n",
    "    Hc = 5.196\n",
    "    kappa = 0.012\n",
    "    # wp = 2\n",
    "    # atom\n",
    "    Na = 2\n",
    "    # eps = 0.5\n",
    "    t2 = 5.2\n",
    "    # couple\n",
    "    # g = 0.3\n",
    "    # operator\n",
    "    a = tensor(qeye(Na), destroy(Nc))\n",
    "    ad = a.dag()\n",
    "    sz = tensor(sigmaz(), qeye(Nc))\n",
    "    sx = tensor(sigmax(), qeye(Nc))\n",
    "    sm = tensor(create(Na), qeye(Nc))\n",
    "    # collapse operator\n",
    "    c_ops= []\n",
    "    # c_ops.append(np.sqrt(0.1) * sm)\n",
    "    c_ops.append(np.sqrt((1+0)*kappa) * a)\n",
    "    c_ops.append(np.sqrt((0)*kappa) * ad)\n",
    "    # Hamiltonian\n",
    "    Hc = Hc*ad*a\n",
    "    Ha = eps/2*sz + t2/2*sx\n",
    "    Hi = 1*g*(sm*ad+sm.dag()*a)\n",
    "    # tranformation for qubit\n",
    "    Ha0 = eps/2*sigmaz() + t2/2*sigmax()\n",
    "    w,v = eigh(Ha0)\n",
    "    Ha1 = np.transpose(np.conj(v))@np.array(Ha0)@v\n",
    "    Ha1 = Qobj(Ha1)\n",
    "    if eps<0:\n",
    "        tmp_sm = sigmap()\n",
    "    else:\n",
    "        tmp_sm = sigmam()\n",
    "    sigmam1 = np.transpose(np.conj(v))@np.array(tmp_sm)@v\n",
    "    sigmam1 = Qobj(sigmam1)\n",
    "    sm1 = tensor(sigmam1,qeye(Nc))\n",
    "    Hi1 = 1*g*(sm1*ad+sm1.dag()*a)\n",
    "    c_ops2 = []\n",
    "    add_heat(Ha1,Na,c_ops2)\n",
    "    for each in c_ops2:\n",
    "        c_ops.append(tensor(each, qeye(Nc)))\n",
    "    Ha1 = tensor(Ha1,qeye(Nc))\n",
    "    # all Hamiltonian\n",
    "    H0 = Hc + Ha1 + Hi1\n",
    "    # probe\n",
    "    Hp1 =  [np.sqrt(0.0001)*(ad), py_coeff2]\n",
    "    Hp2 =  [np.sqrt(0.0001)*(a), py_coeff1]\n",
    "    H = [H0,Hp1,Hp2]\n",
    "    # solve\n",
    "    psi0 = tensor(basis(Na,1),fock(Nc,3))\n",
    "    time = np.linspace(0,100,1000)\n",
    "    res = mesolve(H,psi0,time,c_ops,[a,ad*a,tensor(qdiags([1,0],0),qeye(Nc))],args={'wr': wp})\n",
    "    aexpt = abs(res.expect[0][-500:-1])\n",
    "    # plt.plot(time,abs(res.expect[0]))\n",
    "    # plt.plot(time,abs(res.expect[1]))\n",
    "    # plt.plot(time,(res.expect[2]))\n",
    "    # print(res.expect[2][-1])\n",
    "    # total = 1+np.exp(-np.sqrt(2))\n",
    "    # zhanju1 = np.exp(0)/total\n",
    "    # print(zhanju1)\n",
    "    ret = np.sum(aexpt)/len(aexpt)\n",
    "    return ret**2"
   ]
  },
  {
   "cell_type": "code",
   "execution_count": 24,
   "metadata": {},
   "outputs": [
    {
     "data": {
      "image/png": "[encoded data removed]",
      "text/plain": [
       "<Figure size 432x288 with 1 Axes>"
      ]
     },
     "metadata": {
      "needs_background": "light"
     },
     "output_type": "display_data"
    }
   ],
   "source": [
    "probe_lis = np.linspace(5.1,5.3,50)\n",
    "res_lis = []\n",
    "for probe in probe_lis:\n",
    "    res_lis.append(get_couple_test(probe,g=0.8,eps=0))\n",
    "res_lis = np.abs(res_li\n",
    "plt.plot(probe_lis,res_lis,c='r');"
   ]
  },
  {
   "cell_type": "code",
   "execution_count": 10,
   "metadata": {},
   "outputs": [
    {
     "data": {
      "image/png": "[encoded data removed]",
      "text/plain": [
       "<Figure size 432x288 with 1 Axes>"
      ]
     },
     "metadata": {
      "needs_background": "light"
     },
     "output_type": "display_data"
    }
   ],
   "source": [
    "probe_lis = np.linspace(1,3,100)\n",
    "res_lis = []\n",
    "for probe in probe_lis:\n",
    "    res_lis.append(get_couple_test(probe,g=1,eps=-10))\n",
    "res_lis = np.abs(res_lis)\n",
    "plt.plot(probe_lis,res_lis,c='r');"
   ]
  },
  {
   "cell_type": "code",
   "execution_count": 9,
   "metadata": {},
   "outputs": [
    {
     "data": {
      "image/png": "[encoded data removed]",
      "text/plain": [
       "<Figure size 432x288 with 1 Axes>"
      ]
     },
     "metadata": {
      "needs_background": "light"
     },
     "output_type": "display_data"
    }
   ],
   "source": [
    "probe_lis = np.linspace(1,3,100)\n",
    "res_lis = []\n",
    "for probe in probe_lis:\n",
    "    res_lis.append(get_couple_test(probe,g=0.5,eps=-1))\n",
    "res_lis = np.abs(res_lis)\n",
    "plt.plot(probe_lis,res_lis,c='r');"
   ]
  },
  {
   "cell_type": "code",
   "execution_count": 10,
   "metadata": {},
   "outputs": [
    {
     "data": {
      "image/png": "[encoded data removed]",
      "text/plain": [
       "<Figure size 432x288 with 1 Axes>"
      ]
     },
     "metadata": {
      "needs_background": "light"
     },
     "output_type": "display_data"
    }
   ],
   "source": [
    "probe_lis = np.linspace(1,3,100)\n",
    "res_lis = []\n",
    "for probe in probe_lis:\n",
    "    res_lis.append(get_couple_test(probe,g=0.5,eps=1))\n",
    "res_lis = np.abs(res_lis)\n",
    "plt.plot(probe_lis,res_lis,c='r');"
   ]
  },
  {
   "cell_type": "code",
   "execution_count": 6,
   "metadata": {},
   "outputs": [
    {
     "data": {
      "text/plain": [
       "<matplotlib.image.AxesImage at 0x173e9093460>"
      ]
     },
     "execution_count": 6,
     "metadata": {},
     "output_type": "execute_result"
    },
    {
     "data": {
      "image/png": "[encoded data removed]",
      "text/plain": [
       "<Figure size 432x288 with 1 Axes>"
      ]
     },
     "metadata": {
      "needs_background": "light"
     },
     "output_type": "display_data"
    }
   ],
   "source": [
    "N1 = 1\n",
    "N2 = 1\n",
    "probe_lis = np.linspace(1,3,N1)\n",
    "eps_lis = np.linspace(-10,10,N2)\n",
    "res_lis = np.zeros((N1,N2))\n",
    "for i,eps in enumerate(eps_lis):\n",
    "    for j,probe in enumerate(probe_lis):\n",
    "        res_lis[j,i]=get_couple_test(probe,g=0.5,eps=eps)\n",
    "res_lis = np.abs(res_lis)\n",
    "plt.imshow(res_lis)"
   ]
  },
  {
   "cell_type": "code",
   "execution_count": null,
   "metadata": {},
   "outputs": [],
   "source": []
  }
 ],
 "metadata": {
  "kernelspec": {
   "display_name": "base",
   "language": "python",
   "name": "python3"
  },
  "language_info": {
   "codemirror_mode": {
    "name": "ipython",
    "version": 3
   },
   "file_extension": ".py",
   "mimetype": "text/x-python",
   "name": "python",
   "nbconvert_exporter": "python",
   "pygments_lexer": "ipython3",
   "version": "3.8.8"
  },
  "orig_nbformat": 4,
  "vscode": {
   "interpreter": {
    "hash": "ad2bdc8ecc057115af97d19610ffacc2b4e99fae6737bb82f5d7fb13d2f2c186"
   }
  }
 },
 "nbformat": 4,
 "nbformat_minor": 2
}
