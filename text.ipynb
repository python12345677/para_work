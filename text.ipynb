{
 "cells": [
  {
   "cell_type": "code",
   "execution_count": 1,
   "metadata": {},
   "outputs": [],
   "source": [
    "from qutip import *\n",
    "import numpy as np\n",
    "import matplotlib.pyplot as plt\n",
    "import math\n"
   ]
  },
  {
   "cell_type": "code",
   "execution_count": 2,
   "metadata": {},
   "outputs": [],
   "source": [
    "def LZS_Ham(Ad, detuning, tunnel, vd, maxm):\n",
    "    ## 实验参数区 单位：GHz\n",
    "    h=1;#Planck constant \n",
    "    gamma=0.1;#decoherence rate of qubit\n",
    "    vr=5.198;#resonator frequency\n",
    "    vprobe=vr;#probe frequency\n",
    "    alpha=0.001;#dimensionless dissipation strength\n",
    "    T = 0.1\n",
    "    g=0.081;#couple strength between qubit and cavity\n",
    "    kbT = 86.17333262145/4.1356676969 * T;#GHz #k_b*10mK #86.17333262145 ueV h = 4.1356676969×10-15 eV·s\n",
    "    ## Floquet计算参数区\n",
    "    dima = 2;# atom系统的维度=2(固定，更改需一并修改H0定义)\n",
    "    maxm = maxm;# floquet张开的最大光子数值\n",
    "    pi = math.pi\n",
    "    ## 额外参数区\n",
    "    kappa = 0.01197\n",
    "    kappaext = 0.007\n",
    "    kappaint = kappa - kappaext  \n",
    "    H0 = tunnel/2 * sigmax() + detuning / 2 * sigmaz()\n",
    "    N = 2 * maxm + 1\n",
    "    idf = identity(N)\n",
    "    mhat = tensor(qdiags(range(-maxm,maxm+1),0),identity(dima))\n",
    "    mhatin = Qobj(np.diag(np.ones(2*maxm,dtype=np.float64),-1))\n",
    "    mhatde = Qobj(np.diag(np.ones(2*maxm,dtype=np.float64),1))\n",
    "    mhatin = tensor(mhatin, identity(dima))\n",
    "    mhatde = tensor(mhatde, identity(dima))\n",
    "    H0 = tensor(idf,H0)\n",
    "    sigmazt = tensor(identity(N),sigmaz())\n",
    "    sigmaxt = tensor(identity(N),sigmax())\n",
    "    Hf = H0 + h * vd * mhat - Ad / 4 * sigmazt * (mhatin + mhatde)\n",
    "    return Hf"
   ]
  },
  {
   "cell_type": "code",
   "execution_count": 34,
   "metadata": {},
   "outputs": [
    {
     "data": {
      "text/plain": [
       "[<matplotlib.lines.Line2D at 0x2034f38ce20>]"
      ]
     },
     "execution_count": 34,
     "metadata": {},
     "output_type": "execute_result"
    },
    {
     "data": {
      "image/png": "[encoded data removed]",
      "text/plain": [
       "<Figure size 432x288 with 1 Axes>"
      ]
     },
     "metadata": {
      "needs_background": "light"
     },
     "output_type": "display_data"
    }
   ],
   "source": [
    "tunnel = 5.2\n",
    "vd = 3.4\n",
    "wc=5.2\n",
    "g = 0.08\n",
    "maxm = 2\n",
    "N = 2 * maxm + 1\n",
    "Nc = 5\n",
    "dima = 2\n",
    "\n",
    "#\n",
    "\n",
    "ad = create(Nc)\n",
    "ad = tensor(identity(N),identity(2),ad)\n",
    "# get hamitonian\n",
    "Ad=0\n",
    "detuning=0\n",
    "Hc = wc*ad*ad.dag()\n",
    "H = LZS_Ham(Ad=Ad, detuning=detuning, tunnel=tunnel, vd=vd, maxm=maxm)\n",
    "H = tensor(H,identity(Nc))\n",
    "\n",
    "sm_all = tensor(qeye(N),sigmam(),qeye(Nc))\n",
    "Hi = 1*g*(ad*sm_all+ad.dag()*sm_all.dag())\n",
    "psi0 = tensor(fock(N,0),fock(dima,1),fock(Nc,0))\n",
    "# tlist = np.linspace(0,10,1000)\n",
    "sigmazt = tensor(identity(N),sigmaz(),identity(Nc))\n",
    "\n",
    "H = H + Hc + Hi\n",
    "# res = mesolve(H,psi0,tlist,[],[sigmazt],args=None)\n",
    "probe_lis = np.linspace(5.1,5.3,1000)\n",
    "c_ops = []\n",
    "n_th = 0.1\n",
    "kappa = 0.1\n",
    "c_ops.append(np.sqrt((1+n_th)*kappa) * ad.dag())\n",
    "c_ops.append(np.sqrt((n_th)*kappa) * ad)\n",
    "c_ops.append(sm_all)\n",
    "spec2 = spectrum(H,probe_lis,c_ops,ad,ad.dag())\n",
    "# plt.plot(tlist,res.expect[0])d\n",
    "plt.plot(probe_lis,spec2)"
   ]
  },
  {
   "cell_type": "code",
   "execution_count": 32,
   "metadata": {},
   "outputs": [
    {
     "data": {
      "text/plain": [
       "[<matplotlib.lines.Line2D at 0x2034f56ef10>]"
      ]
     },
     "execution_count": 32,
     "metadata": {},
     "output_type": "execute_result"
    },
    {
     "data": {
      "image/png": "[encoded data removed]",
      "text/plain": [
       "<Figure size 432x288 with 1 Axes>"
      ]
     },
     "metadata": {
      "needs_background": "light"
     },
     "output_type": "display_data"
    }
   ],
   "source": [
    "tunnel = 5.2\n",
    "vd = 3.4\n",
    "wc=5.2\n",
    "g = 0.000002\n",
    "maxm = 2\n",
    "N = 2 * maxm + 1\n",
    "Nc = 5\n",
    "dima = 2\n",
    "\n",
    "#\n",
    "\n",
    "ad = create(Nc)\n",
    "ad = tensor(identity(N),identity(2),ad)\n",
    "# get hamitonian\n",
    "Ad=0\n",
    "detuning=10\n",
    "Hc = wc*ad*ad.dag()\n",
    "H = LZS_Ham(Ad=Ad, detuning=detuning, tunnel=tunnel, vd=vd, maxm=maxm)\n",
    "H = tensor(H,identity(Nc))\n",
    "\n",
    "sm_all = tensor(qeye(N),sigmam(),qeye(Nc))\n",
    "Hi = 1*g*(ad*sm_all+ad.dag()*sm_all.dag())\n",
    "psi0 = tensor(fock(N,0),fock(dima,0),fock(Nc,0))\n",
    "# tlist = np.linspace(0,10,1000)\n",
    "sigmazt = tensor(identity(N),sigmaz(),identity(Nc))\n",
    "\n",
    "H = H + Hc + Hi\n",
    "# res = mesolve(H,psi0,tlist,[],[sigmazt],args=None)\n",
    "probe_lis = np.linspace(5.1,5.3,1000)\n",
    "c_ops = []\n",
    "n_th = 0.1\n",
    "kappa = 0.1\n",
    "c_ops.append(np.sqrt((1+n_th)*kappa) * ad.dag())\n",
    "c_ops.append(np.sqrt((n_th)*kappa) * ad)\n",
    "c_ops.append(sm_all)\n",
    "spec2 = spectrum(H,probe_lis,c_ops,ad,ad.dag())\n",
    "# plt.plot(tlist,res.expect[0])d\n",
    "plt.plot(probe_lis,spec2)"
   ]
  },
  {
   "cell_type": "code",
   "execution_count": null,
   "metadata": {},
   "outputs": [],
   "source": []
  }
 ],
 "metadata": {
  "kernelspec": {
   "display_name": "base",
   "language": "python",
   "name": "python3"
  },
  "language_info": {
   "codemirror_mode": {
    "name": "ipython",
    "version": 3
   },
   "file_extension": ".py",
   "mimetype": "text/x-python",
   "name": "python",
   "nbconvert_exporter": "python",
   "pygments_lexer": "ipython3",
   "version": "3.8.8"
  },
  "orig_nbformat": 4
 },
 "nbformat": 4,
 "nbformat_minor": 2
}
